{
 "cells": [
  {
   "cell_type": "code",
   "execution_count": 1,
   "id": "31ff6faf-ee19-4482-a4e3-a0e5db56c984",
   "metadata": {
    "id": "31ff6faf-ee19-4482-a4e3-a0e5db56c984"
   },
   "outputs": [],
   "source": [
    "# Загрузка необходимых библиотек\n",
    "import pandas as pd\n",
    "import numpy as np\n",
    "from sklearn.model_selection import StratifiedKFold\n",
    "from sklearn.metrics import roc_auc_score\n",
    "import lightgbm as lgb\n"
   ]
  },
  {
   "cell_type": "code",
   "execution_count": 2,
   "id": "35bb4361-1f55-454f-acce-e5dbd3435458",
   "metadata": {
    "id": "35bb4361-1f55-454f-acce-e5dbd3435458"
   },
   "outputs": [],
   "source": [
    "# Загрузка датасетов\n",
    "train_df = pd.read_parquet('train_data.pqt')\n",
    "test_df = pd.read_parquet('test_data.pqt')\n",
    "cluster_weights_df = pd.read_excel(\"cluster_weights.xlsx\")\n",
    "sample_submission_df = pd.read_csv(\"sample_submission.csv\")\n",
    "\n",
    "# Определение функции потерь\n",
    "def weighted_roc_auc(y_true, y_pred, labels, weights_dict):\n",
    "    unnorm_weights = np.array([weights_dict[label] for label in labels])\n",
    "    weights = unnorm_weights / unnorm_weights.sum()\n",
    "    classes_roc_auc = roc_auc_score(y_true, y_pred, labels=labels,\n",
    "                                    multi_class=\"ovr\", average=None)\n",
    "    return sum(weights * classes_roc_auc)"
   ]
  },
  {
   "cell_type": "markdown",
   "id": "3GiGSnbNvvtL",
   "metadata": {
    "id": "3GiGSnbNvvtL"
   },
   "source": [
    "### Обработка датасетов"
   ]
  },
  {
   "cell_type": "code",
   "execution_count": 3,
   "id": "p7aDNCnzyk11",
   "metadata": {
    "id": "p7aDNCnzyk11"
   },
   "outputs": [],
   "source": [
    "# Коллонка с численным номером месяца\n",
    "train_df['month_num'] = train_df['date'].apply(lambda x: x[-1]).astype(int)\n",
    "test_df['month_num'] = test_df['date'].apply(lambda x: x[-1]).astype(int)"
   ]
  },
  {
   "cell_type": "code",
   "execution_count": 4,
   "id": "p3ncf_cm6ZsK",
   "metadata": {
    "id": "p3ncf_cm6ZsK"
   },
   "outputs": [],
   "source": [
    "# Заполнение пропусков в month_6\n",
    "m5_cluster = test_df[test_df['month_num'] ==5][['start_cluster']].reset_index()\n",
    "m5_cluster['index'] +=1\n",
    "m5_cluster.set_index('index', inplace=True)\n",
    "m5_cluster = m5_cluster.to_dict('dict')['start_cluster']\n",
    "\n",
    "m6_ids = test_df[test_df['month_num'] == 6].index\n",
    "test_df.loc[m6_ids, 'start_cluster'] = m5_cluster"
   ]
  },
  {
   "cell_type": "code",
   "execution_count": 5,
   "id": "f0niluTWymQa",
   "metadata": {
    "id": "f0niluTWymQa"
   },
   "outputs": [],
   "source": [
    "# Присвоение коллонке start_cluster типа категориальной переменной\n",
    "all_clusters = train_df['start_cluster'].unique()\n",
    "start_cluster_dtype = pd.CategoricalDtype(categories=all_clusters)\n",
    "\n",
    "train_df['start_cluster'] = train_df['start_cluster'].astype(start_cluster_dtype)\n",
    "test_df['start_cluster'] = test_df['start_cluster'].astype(start_cluster_dtype)"
   ]
  },
  {
   "cell_type": "code",
   "execution_count": 6,
   "id": "X6r1M_TQ8vOe",
   "metadata": {
    "id": "X6r1M_TQ8vOe"
   },
   "outputs": [],
   "source": [
    "# Создание объединенного датасета для дальнейшей обработки\n",
    "train_df['is_train'] = 1\n",
    "test_df['is_train'] = 0\n",
    "full_df = pd.concat([train_df, test_df], ignore_index=True)\n",
    "full_df = full_df.sort_values(['id', 'month_num']).reset_index(drop=True)"
   ]
  },
  {
   "cell_type": "markdown",
   "id": "icddVqfJCj1X",
   "metadata": {
    "id": "icddVqfJCj1X"
   },
   "source": [
    "### Инжинеринг переменных для обучения модели"
   ]
  },
  {
   "cell_type": "code",
   "execution_count": 7,
   "id": "mBp1kwS8CUww",
   "metadata": {
    "id": "mBp1kwS8CUww"
   },
   "outputs": [],
   "source": [
    "\n",
    "\n",
    "# Выделение остальных категориальных переменных\n",
    "\n",
    "cat_cols = [\"channel_code\", \"city\", \"city_type\", \"index_city_code\", \"ogrn_month\",\n",
    "            \"ogrn_year\", \"okved\", \"segment\", \"start_cluster\"]\n",
    "\n",
    "for col in cat_cols:\n",
    "      all_uniques = full_df[col].dropna().unique()\n",
    "      cat_dtype = pd.CategoricalDtype(categories=all_uniques)\n",
    "      full_df[col] = full_df[col].astype(cat_dtype)"
   ]
  },
  {
   "cell_type": "code",
   "execution_count": 8,
   "id": "0gd1dR97MkNs",
   "metadata": {
    "id": "0gd1dR97MkNs"
   },
   "outputs": [],
   "source": [
    "# Добавление лаговых переменных\n",
    "\n",
    "cols_for_lags = ['balance_amt_avg', 'balance_amt_max', 'balance_amt_min', 'balance_amt_day_avg',\n",
    "                     'ft_registration_date', 'max_founderpres', 'min_founderpres', 'ogrn_exist_months']\n",
    "\n",
    "for col in cols_for_lags:\n",
    "      full_df[f'{col}_lag1'] = full_df.groupby('id')[col].shift(1).fillna(0)\n",
    "      full_df[f'{col}_diff1'] = (full_df[col] - full_df[f'{col}_lag1']).fillna(0)"
   ]
  },
  {
   "cell_type": "code",
   "execution_count": 9,
   "id": "5KOwNaDpMngX",
   "metadata": {
    "id": "5KOwNaDpMngX"
   },
   "outputs": [],
   "source": [
    "# Добавление категориальной переменной кластера в прошлом месяце\n",
    "placeholder = \"MISSING_LAG\"\n",
    "prev_month_clusters = list(all_clusters) + [placeholder]\n",
    "prev_start_cluster_dtype = pd.CategoricalDtype(categories=prev_month_clusters)\n",
    "\n",
    "full_df['prev_month_start_cluster'] = (full_df.groupby('id')['start_cluster'].shift(1)).astype(prev_start_cluster_dtype).fillna(placeholder)\n",
    "cat_cols.append('prev_month_start_cluster')"
   ]
  },
  {
   "cell_type": "code",
   "execution_count": 10,
   "id": "ronm3Gb5Mp5N",
   "metadata": {
    "id": "ronm3Gb5Mp5N"
   },
   "outputs": [],
   "source": [
    "# Обработка окончена, разделение датасетов по флагу is_train\n",
    "train_processed_df = full_df[full_df['is_train'] == 1].copy()\n",
    "test_processed_df = full_df[full_df['is_train'] == 0].copy()\n",
    "\n",
    "# Перевод end_cluster в численных формат\n",
    "\n",
    "# Датасеты соотношения названия и кода кластера\n",
    "encoding_df = pd.DataFrame({'cluster' :sorted(train_processed_df['end_cluster'].unique()),\n",
    "             'end_cluster_encoded': [0, 1, 2, 3, 4, 5, 6, 7, 8, 9, 10, 11, 12, 13, 14, 15, 16]})\n",
    "encoding_df_w_weights = encoding_df.merge(cluster_weights_df[['cluster', 'unnorm_weight']], on='cluster')\n",
    "\n",
    "# Перенос кода в тренировочный датасет\n",
    "train_processed_df = pd.merge(train_processed_df, encoding_df.rename({'cluster': 'end_cluster'}, axis=1), on='end_cluster')\n",
    "\n",
    "num_classes = len(encoding_df)"
   ]
  },
  {
   "cell_type": "code",
   "execution_count": 11,
   "id": "HSWzjuocMr0p",
   "metadata": {
    "id": "HSWzjuocMr0p"
   },
   "outputs": [],
   "source": [
    "# Выделение переменных для тренировки\n",
    "features_to_drop = ['id', 'date', 'month_num', 'is_train', 'end_cluster', 'end_cluster_encoded'] # Переменные, не учитываемы в обучении модели\n",
    "\n",
    "features = [col for col in train_processed_df.columns if col not in features_to_drop]\n",
    "final_cat_features = [col for col in cat_cols]\n"
   ]
  },
  {
   "cell_type": "markdown",
   "id": "GZ0uK__fMx8D",
   "metadata": {
    "id": "GZ0uK__fMx8D"
   },
   "source": [
    "### Обучение модели"
   ]
  },
  {
   "cell_type": "code",
   "execution_count": 12,
   "id": "jHBbbCqznv0v",
   "metadata": {
    "id": "jHBbbCqznv0v"
   },
   "outputs": [],
   "source": [
    "# Подготовка данных для обучения\n",
    "X = train_processed_df[features]\n",
    "y = train_processed_df['end_cluster_encoded']\n",
    "X_test = test_processed_df[test_processed_df['month_num'] == 6][features].copy()\n",
    "\n",
    "oof_preds = np.zeros((X.shape[0], num_classes))\n",
    "test_preds = np.zeros((X_test.shape[0], num_classes))"
   ]
  },
  {
   "cell_type": "code",
   "execution_count": 13,
   "id": "dce60c2b-fcd5-43fd-a21b-28dbcb8705ea",
   "metadata": {
    "id": "dce60c2b-fcd5-43fd-a21b-28dbcb8705ea",
    "outputId": "b2731c65-107b-4eda-986d-cd01e706953e"
   },
   "outputs": [
    {
     "name": "stdout",
     "output_type": "stream",
     "text": [
      "\n",
      "Fold 1\n",
      "Training until validation scores don't improve for 100 rounds\n",
      "Did not meet early stopping. Best iteration is:\n",
      "[1000]\tvalid_0's multi_logloss: 0.646659\n",
      "\n",
      "Fold 2\n",
      "Training until validation scores don't improve for 100 rounds\n",
      "Did not meet early stopping. Best iteration is:\n",
      "[1000]\tvalid_0's multi_logloss: 0.647406\n",
      "\n",
      "Fold 3\n",
      "Training until validation scores don't improve for 100 rounds\n",
      "Did not meet early stopping. Best iteration is:\n",
      "[1000]\tvalid_0's multi_logloss: 0.654207\n",
      "\n",
      "Fold 4\n",
      "Training until validation scores don't improve for 100 rounds\n",
      "Did not meet early stopping. Best iteration is:\n",
      "[1000]\tvalid_0's multi_logloss: 0.646248\n",
      "\n",
      "Fold 5\n",
      "Training until validation scores don't improve for 100 rounds\n",
      "Did not meet early stopping. Best iteration is:\n",
      "[1000]\tvalid_0's multi_logloss: 0.645517\n"
     ]
    }
   ],
   "source": [
    "#Обучение модели с использованием ассемблеи\n",
    "skf = StratifiedKFold(n_splits=5, shuffle=True, random_state=42)\n",
    "\n",
    "oof_preds = np.zeros((X.shape[0], num_classes))\n",
    "test_preds = np.zeros((X_test.shape[0], num_classes))\n",
    "\n",
    "for fold, (train_idx, val_idx) in enumerate(skf.split(X, y)):\n",
    "    print(f\"\\nFold {fold + 1}\")\n",
    "    X_train, X_val = X.iloc[train_idx], X.iloc[val_idx]\n",
    "    y_train, y_val = y.iloc[train_idx], y.iloc[val_idx]\n",
    "\n",
    "    model = lgb.LGBMClassifier(\n",
    "        objective='multiclass', metric='multi_logloss', num_class=num_classes,\n",
    "        n_estimators=1000, learning_rate=0.05, feature_fraction=0.8,\n",
    "        bagging_fraction=0.8, bagging_freq=1, lambda_l1=0.1, lambda_l2=0.1,\n",
    "        num_leaves=31, verbose=-1, n_jobs=-1, seed=42 + fold, boosting_type='gbdt'\n",
    "    )\n",
    "\n",
    "    model.fit(X_train, y_train,\n",
    "              eval_set=[(X_val, y_val)],\n",
    "              callbacks=[lgb.early_stopping(100, verbose=True)],\n",
    "              categorical_feature=final_cat_features)\n",
    "\n",
    "    oof_preds[val_idx] = model.predict_proba(X_val)\n",
    "    test_preds += model.predict_proba(X_test) / skf.n_splits"
   ]
  },
  {
   "cell_type": "markdown",
   "id": "3aBjPblVpUb2",
   "metadata": {
    "id": "3aBjPblVpUb2"
   },
   "source": [
    "### Форматирование итогового файла"
   ]
  },
  {
   "cell_type": "code",
   "execution_count": 15,
   "id": "b5ff1644-fbdd-498e-928f-f9f1b358c5d6",
   "metadata": {
    "id": "b5ff1644-fbdd-498e-928f-f9f1b358c5d6"
   },
   "outputs": [
    {
     "name": "stdout",
     "output_type": "stream",
     "text": [
      "Submission file succesfully created!\n"
     ]
    }
   ],
   "source": [
    "submission_df = pd.DataFrame(test_preds, columns=sorted(all_clusters))\n",
    "submission_df['id'] = test_processed_df[test_processed_df['month_num'] == 6]['id'].values\n",
    "\n",
    "submission_cols_order = ['id'] + list(sample_submission_df.columns[1:])\n",
    "submission_df = submission_df[submission_cols_order]\n",
    "\n",
    "submission_df.to_csv(\"submission.csv\", index=False)\n",
    "print(\"Submission file succesfully created!\")"
   ]
  },
  {
   "cell_type": "code",
   "execution_count": 18,
   "id": "3da43234-5003-4e42-9817-abdd0714e4bf",
   "metadata": {
    "id": "3da43234-5003-4e42-9817-abdd0714e4bf",
    "outputId": "377d2760-9842-428e-c47c-d10d4cb2ce5a"
   },
   "outputs": [
    {
     "data": {
      "text/html": [
       "<div>\n",
       "<style scoped>\n",
       "    .dataframe tbody tr th:only-of-type {\n",
       "        vertical-align: middle;\n",
       "    }\n",
       "\n",
       "    .dataframe tbody tr th {\n",
       "        vertical-align: top;\n",
       "    }\n",
       "\n",
       "    .dataframe thead th {\n",
       "        text-align: right;\n",
       "    }\n",
       "</style>\n",
       "<table border=\"1\" class=\"dataframe\">\n",
       "  <thead>\n",
       "    <tr style=\"text-align: right;\">\n",
       "      <th></th>\n",
       "      <th>id</th>\n",
       "      <th>{other}</th>\n",
       "      <th>{}</th>\n",
       "      <th>{α, β}</th>\n",
       "      <th>{α, γ}</th>\n",
       "      <th>{α, δ}</th>\n",
       "      <th>{α, ε, η}</th>\n",
       "      <th>{α, ε, θ}</th>\n",
       "      <th>{α, ε, ψ}</th>\n",
       "      <th>{α, ε}</th>\n",
       "      <th>{α, η}</th>\n",
       "      <th>{α, θ}</th>\n",
       "      <th>{α, λ}</th>\n",
       "      <th>{α, μ}</th>\n",
       "      <th>{α, π}</th>\n",
       "      <th>{α, ψ}</th>\n",
       "      <th>{α}</th>\n",
       "      <th>{λ}</th>\n",
       "    </tr>\n",
       "  </thead>\n",
       "  <tbody>\n",
       "    <tr>\n",
       "      <th>0</th>\n",
       "      <td>200000</td>\n",
       "      <td>0.005926</td>\n",
       "      <td>0.014308</td>\n",
       "      <td>0.024379</td>\n",
       "      <td>0.016736</td>\n",
       "      <td>0.000608</td>\n",
       "      <td>1.420817e-06</td>\n",
       "      <td>2.069692e-06</td>\n",
       "      <td>4.639868e-07</td>\n",
       "      <td>0.001485</td>\n",
       "      <td>0.002701</td>\n",
       "      <td>0.007095</td>\n",
       "      <td>2.637911e-06</td>\n",
       "      <td>0.000068</td>\n",
       "      <td>1.041634e-07</td>\n",
       "      <td>0.000031</td>\n",
       "      <td>0.926655</td>\n",
       "      <td>4.188624e-07</td>\n",
       "    </tr>\n",
       "    <tr>\n",
       "      <th>1</th>\n",
       "      <td>200001</td>\n",
       "      <td>0.002782</td>\n",
       "      <td>0.588337</td>\n",
       "      <td>0.000089</td>\n",
       "      <td>0.000698</td>\n",
       "      <td>0.000009</td>\n",
       "      <td>3.872562e-07</td>\n",
       "      <td>3.168853e-07</td>\n",
       "      <td>3.895498e-07</td>\n",
       "      <td>0.000384</td>\n",
       "      <td>0.005618</td>\n",
       "      <td>0.000150</td>\n",
       "      <td>3.832987e-08</td>\n",
       "      <td>0.000004</td>\n",
       "      <td>7.666370e-08</td>\n",
       "      <td>0.000024</td>\n",
       "      <td>0.401902</td>\n",
       "      <td>1.474097e-06</td>\n",
       "    </tr>\n",
       "    <tr>\n",
       "      <th>2</th>\n",
       "      <td>200002</td>\n",
       "      <td>0.863873</td>\n",
       "      <td>0.002064</td>\n",
       "      <td>0.000843</td>\n",
       "      <td>0.015447</td>\n",
       "      <td>0.001777</td>\n",
       "      <td>5.712840e-06</td>\n",
       "      <td>1.007807e-04</td>\n",
       "      <td>2.878167e-04</td>\n",
       "      <td>0.008594</td>\n",
       "      <td>0.012818</td>\n",
       "      <td>0.004731</td>\n",
       "      <td>3.595782e-05</td>\n",
       "      <td>0.000039</td>\n",
       "      <td>1.805630e-06</td>\n",
       "      <td>0.000873</td>\n",
       "      <td>0.088507</td>\n",
       "      <td>2.103447e-06</td>\n",
       "    </tr>\n",
       "    <tr>\n",
       "      <th>3</th>\n",
       "      <td>200003</td>\n",
       "      <td>0.036343</td>\n",
       "      <td>0.653162</td>\n",
       "      <td>0.000237</td>\n",
       "      <td>0.001018</td>\n",
       "      <td>0.000029</td>\n",
       "      <td>1.415472e-06</td>\n",
       "      <td>5.017812e-07</td>\n",
       "      <td>1.515462e-06</td>\n",
       "      <td>0.000304</td>\n",
       "      <td>0.012684</td>\n",
       "      <td>0.000602</td>\n",
       "      <td>2.423105e-07</td>\n",
       "      <td>0.000003</td>\n",
       "      <td>9.859078e-08</td>\n",
       "      <td>0.000001</td>\n",
       "      <td>0.295613</td>\n",
       "      <td>1.993572e-07</td>\n",
       "    </tr>\n",
       "    <tr>\n",
       "      <th>4</th>\n",
       "      <td>200004</td>\n",
       "      <td>0.073637</td>\n",
       "      <td>0.104724</td>\n",
       "      <td>0.000870</td>\n",
       "      <td>0.007909</td>\n",
       "      <td>0.000151</td>\n",
       "      <td>5.416449e-06</td>\n",
       "      <td>5.860343e-07</td>\n",
       "      <td>8.149348e-07</td>\n",
       "      <td>0.000711</td>\n",
       "      <td>0.320108</td>\n",
       "      <td>0.002384</td>\n",
       "      <td>5.845194e-06</td>\n",
       "      <td>0.000090</td>\n",
       "      <td>2.747593e-07</td>\n",
       "      <td>0.000012</td>\n",
       "      <td>0.489392</td>\n",
       "      <td>5.546757e-08</td>\n",
       "    </tr>\n",
       "    <tr>\n",
       "      <th>...</th>\n",
       "      <td>...</td>\n",
       "      <td>...</td>\n",
       "      <td>...</td>\n",
       "      <td>...</td>\n",
       "      <td>...</td>\n",
       "      <td>...</td>\n",
       "      <td>...</td>\n",
       "      <td>...</td>\n",
       "      <td>...</td>\n",
       "      <td>...</td>\n",
       "      <td>...</td>\n",
       "      <td>...</td>\n",
       "      <td>...</td>\n",
       "      <td>...</td>\n",
       "      <td>...</td>\n",
       "      <td>...</td>\n",
       "      <td>...</td>\n",
       "      <td>...</td>\n",
       "    </tr>\n",
       "    <tr>\n",
       "      <th>99995</th>\n",
       "      <td>299995</td>\n",
       "      <td>0.028486</td>\n",
       "      <td>0.318285</td>\n",
       "      <td>0.000249</td>\n",
       "      <td>0.014118</td>\n",
       "      <td>0.000076</td>\n",
       "      <td>1.692562e-06</td>\n",
       "      <td>8.327950e-07</td>\n",
       "      <td>2.023396e-08</td>\n",
       "      <td>0.002188</td>\n",
       "      <td>0.000462</td>\n",
       "      <td>0.000030</td>\n",
       "      <td>6.150587e-06</td>\n",
       "      <td>0.000013</td>\n",
       "      <td>4.379531e-06</td>\n",
       "      <td>0.000016</td>\n",
       "      <td>0.636056</td>\n",
       "      <td>7.258288e-06</td>\n",
       "    </tr>\n",
       "    <tr>\n",
       "      <th>99996</th>\n",
       "      <td>299996</td>\n",
       "      <td>0.024118</td>\n",
       "      <td>0.036529</td>\n",
       "      <td>0.004181</td>\n",
       "      <td>0.027432</td>\n",
       "      <td>0.000293</td>\n",
       "      <td>4.286767e-07</td>\n",
       "      <td>9.300151e-07</td>\n",
       "      <td>1.434047e-06</td>\n",
       "      <td>0.001446</td>\n",
       "      <td>0.000974</td>\n",
       "      <td>0.002355</td>\n",
       "      <td>5.979866e-04</td>\n",
       "      <td>0.000056</td>\n",
       "      <td>4.038551e-07</td>\n",
       "      <td>0.000237</td>\n",
       "      <td>0.901778</td>\n",
       "      <td>9.495929e-07</td>\n",
       "    </tr>\n",
       "    <tr>\n",
       "      <th>99997</th>\n",
       "      <td>299997</td>\n",
       "      <td>0.024204</td>\n",
       "      <td>0.005980</td>\n",
       "      <td>0.004503</td>\n",
       "      <td>0.054248</td>\n",
       "      <td>0.001142</td>\n",
       "      <td>4.195278e-06</td>\n",
       "      <td>8.762402e-07</td>\n",
       "      <td>1.016297e-07</td>\n",
       "      <td>0.002082</td>\n",
       "      <td>0.000992</td>\n",
       "      <td>0.000484</td>\n",
       "      <td>8.856725e-06</td>\n",
       "      <td>0.000017</td>\n",
       "      <td>3.082818e-07</td>\n",
       "      <td>0.002762</td>\n",
       "      <td>0.903573</td>\n",
       "      <td>5.585127e-07</td>\n",
       "    </tr>\n",
       "    <tr>\n",
       "      <th>99998</th>\n",
       "      <td>299998</td>\n",
       "      <td>0.026977</td>\n",
       "      <td>0.176127</td>\n",
       "      <td>0.018963</td>\n",
       "      <td>0.015800</td>\n",
       "      <td>0.001430</td>\n",
       "      <td>4.903867e-07</td>\n",
       "      <td>2.058513e-05</td>\n",
       "      <td>6.366114e-06</td>\n",
       "      <td>0.039472</td>\n",
       "      <td>0.003152</td>\n",
       "      <td>0.005219</td>\n",
       "      <td>1.962945e-04</td>\n",
       "      <td>0.000078</td>\n",
       "      <td>2.218844e-05</td>\n",
       "      <td>0.000249</td>\n",
       "      <td>0.712102</td>\n",
       "      <td>1.873724e-04</td>\n",
       "    </tr>\n",
       "    <tr>\n",
       "      <th>99999</th>\n",
       "      <td>299999</td>\n",
       "      <td>0.012538</td>\n",
       "      <td>0.103710</td>\n",
       "      <td>0.006987</td>\n",
       "      <td>0.076146</td>\n",
       "      <td>0.000397</td>\n",
       "      <td>8.089382e-06</td>\n",
       "      <td>5.850128e-07</td>\n",
       "      <td>7.240846e-07</td>\n",
       "      <td>0.002309</td>\n",
       "      <td>0.002698</td>\n",
       "      <td>0.002559</td>\n",
       "      <td>2.286536e-04</td>\n",
       "      <td>0.000011</td>\n",
       "      <td>2.008228e-07</td>\n",
       "      <td>0.000352</td>\n",
       "      <td>0.792053</td>\n",
       "      <td>6.685024e-07</td>\n",
       "    </tr>\n",
       "  </tbody>\n",
       "</table>\n",
       "<p>100000 rows × 18 columns</p>\n",
       "</div>"
      ],
      "text/plain": [
       "           id   {other}        {}    {α, β}    {α, γ}    {α, δ}     {α, ε, η}  \\\n",
       "0      200000  0.005926  0.014308  0.024379  0.016736  0.000608  1.420817e-06   \n",
       "1      200001  0.002782  0.588337  0.000089  0.000698  0.000009  3.872562e-07   \n",
       "2      200002  0.863873  0.002064  0.000843  0.015447  0.001777  5.712840e-06   \n",
       "3      200003  0.036343  0.653162  0.000237  0.001018  0.000029  1.415472e-06   \n",
       "4      200004  0.073637  0.104724  0.000870  0.007909  0.000151  5.416449e-06   \n",
       "...       ...       ...       ...       ...       ...       ...           ...   \n",
       "99995  299995  0.028486  0.318285  0.000249  0.014118  0.000076  1.692562e-06   \n",
       "99996  299996  0.024118  0.036529  0.004181  0.027432  0.000293  4.286767e-07   \n",
       "99997  299997  0.024204  0.005980  0.004503  0.054248  0.001142  4.195278e-06   \n",
       "99998  299998  0.026977  0.176127  0.018963  0.015800  0.001430  4.903867e-07   \n",
       "99999  299999  0.012538  0.103710  0.006987  0.076146  0.000397  8.089382e-06   \n",
       "\n",
       "          {α, ε, θ}     {α, ε, ψ}    {α, ε}    {α, η}    {α, θ}        {α, λ}  \\\n",
       "0      2.069692e-06  4.639868e-07  0.001485  0.002701  0.007095  2.637911e-06   \n",
       "1      3.168853e-07  3.895498e-07  0.000384  0.005618  0.000150  3.832987e-08   \n",
       "2      1.007807e-04  2.878167e-04  0.008594  0.012818  0.004731  3.595782e-05   \n",
       "3      5.017812e-07  1.515462e-06  0.000304  0.012684  0.000602  2.423105e-07   \n",
       "4      5.860343e-07  8.149348e-07  0.000711  0.320108  0.002384  5.845194e-06   \n",
       "...             ...           ...       ...       ...       ...           ...   \n",
       "99995  8.327950e-07  2.023396e-08  0.002188  0.000462  0.000030  6.150587e-06   \n",
       "99996  9.300151e-07  1.434047e-06  0.001446  0.000974  0.002355  5.979866e-04   \n",
       "99997  8.762402e-07  1.016297e-07  0.002082  0.000992  0.000484  8.856725e-06   \n",
       "99998  2.058513e-05  6.366114e-06  0.039472  0.003152  0.005219  1.962945e-04   \n",
       "99999  5.850128e-07  7.240846e-07  0.002309  0.002698  0.002559  2.286536e-04   \n",
       "\n",
       "         {α, μ}        {α, π}    {α, ψ}       {α}           {λ}  \n",
       "0      0.000068  1.041634e-07  0.000031  0.926655  4.188624e-07  \n",
       "1      0.000004  7.666370e-08  0.000024  0.401902  1.474097e-06  \n",
       "2      0.000039  1.805630e-06  0.000873  0.088507  2.103447e-06  \n",
       "3      0.000003  9.859078e-08  0.000001  0.295613  1.993572e-07  \n",
       "4      0.000090  2.747593e-07  0.000012  0.489392  5.546757e-08  \n",
       "...         ...           ...       ...       ...           ...  \n",
       "99995  0.000013  4.379531e-06  0.000016  0.636056  7.258288e-06  \n",
       "99996  0.000056  4.038551e-07  0.000237  0.901778  9.495929e-07  \n",
       "99997  0.000017  3.082818e-07  0.002762  0.903573  5.585127e-07  \n",
       "99998  0.000078  2.218844e-05  0.000249  0.712102  1.873724e-04  \n",
       "99999  0.000011  2.008228e-07  0.000352  0.792053  6.685024e-07  \n",
       "\n",
       "[100000 rows x 18 columns]"
      ]
     },
     "execution_count": 18,
     "metadata": {},
     "output_type": "execute_result"
    }
   ],
   "source": [
    "submission_df"
   ]
  },
  {
   "cell_type": "code",
   "execution_count": null,
   "id": "12f70282-41f9-4c58-9477-863f673a1e89",
   "metadata": {
    "id": "12f70282-41f9-4c58-9477-863f673a1e89"
   },
   "outputs": [],
   "source": []
  }
 ],
 "metadata": {
  "colab": {
   "provenance": []
  },
  "kernelspec": {
   "display_name": "Python 3 (ipykernel)",
   "language": "python",
   "name": "python3"
  },
  "language_info": {
   "codemirror_mode": {
    "name": "ipython",
    "version": 3
   },
   "file_extension": ".py",
   "mimetype": "text/x-python",
   "name": "python",
   "nbconvert_exporter": "python",
   "pygments_lexer": "ipython3",
   "version": "3.12.3"
  }
 },
 "nbformat": 4,
 "nbformat_minor": 5
}
