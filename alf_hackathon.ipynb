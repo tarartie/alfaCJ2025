{
 "cells": [
  {
   "cell_type": "code",
   "execution_count": 1,
   "id": "31ff6faf-ee19-4482-a4e3-a0e5db56c984",
   "metadata": {
    "id": "31ff6faf-ee19-4482-a4e3-a0e5db56c984"
   },
   "outputs": [],
   "source": [
    "# Загрузка необходимых библиотек\n",
    "import pandas as pd\n",
    "import numpy as np\n",
    "from sklearn.model_selection import StratifiedKFold\n",
    "from sklearn.metrics import roc_auc_score\n",
    "import lightgbm as lgb\n"
   ]
  },
  {
   "cell_type": "code",
   "execution_count": 2,
   "id": "35bb4361-1f55-454f-acce-e5dbd3435458",
   "metadata": {
    "id": "35bb4361-1f55-454f-acce-e5dbd3435458"
   },
   "outputs": [],
   "source": [
    "# Загрузка датасетов\n",
    "train_df = pd.read_parquet('train_data.pqt')\n",
    "test_df = pd.read_parquet('test_data.pqt')\n",
    "cluster_weights_df = pd.read_excel(\"cluster_weights.xlsx\")\n",
    "sample_submission_df = pd.read_csv(\"sample_submission.csv\")\n",
    "\n",
    "# Определение функции потерь\n",
    "def weighted_roc_auc(y_true, y_pred, labels, weights_dict):\n",
    "    unnorm_weights = np.array([weights_dict[label] for label in labels])\n",
    "    weights = unnorm_weights / unnorm_weights.sum()\n",
    "    classes_roc_auc = roc_auc_score(y_true, y_pred, labels=labels,\n",
    "                                    multi_class=\"ovr\", average=None)\n",
    "    return sum(weights * classes_roc_auc)"
   ]
  },
  {
   "cell_type": "markdown",
   "id": "3GiGSnbNvvtL",
   "metadata": {
    "id": "3GiGSnbNvvtL"
   },
   "source": [
    "### Обработка датасетов"
   ]
  },
  {
   "cell_type": "code",
   "execution_count": 3,
   "id": "p7aDNCnzyk11",
   "metadata": {
    "id": "p7aDNCnzyk11"
   },
   "outputs": [],
   "source": [
    "# Коллонка с численным номером месяца\n",
    "train_df['month_num'] = train_df['date'].apply(lambda x: x[-1]).astype(int)\n",
    "test_df['month_num'] = test_df['date'].apply(lambda x: x[-1]).astype(int)"
   ]
  },
  {
   "cell_type": "code",
   "execution_count": 4,
   "id": "p3ncf_cm6ZsK",
   "metadata": {
    "id": "p3ncf_cm6ZsK"
   },
   "outputs": [],
   "source": [
    "# Заполнение пропусков в month_6\n",
    "m5_cluster = test_df[test_df['month_num'] ==5][['start_cluster']].reset_index()\n",
    "m5_cluster['index'] +=1\n",
    "m5_cluster.set_index('index', inplace=True)\n",
    "m5_cluster = m5_cluster.to_dict('dict')['start_cluster']\n",
    "\n",
    "m6_ids = test_df[test_df['month_num'] == 6].index\n",
    "test_df.loc[m6_ids, 'start_cluster'] = m5_cluster\n",
    "\n",
    "# ПОДО МНОЙ М5 АСФАЛЬТ 8"
   ]
  },
  {
   "cell_type": "code",
   "execution_count": 5,
   "id": "f0niluTWymQa",
   "metadata": {
    "id": "f0niluTWymQa"
   },
   "outputs": [],
   "source": [
    "# Присвоение коллонке start_cluster типа категориальной переменной\n",
    "all_clusters = train_df['start_cluster'].unique()\n",
    "start_cluster_dtype = pd.CategoricalDtype(categories=all_clusters)\n",
    "\n",
    "train_df['start_cluster'] = train_df['start_cluster'].astype(start_cluster_dtype)\n",
    "test_df['start_cluster'] = test_df['start_cluster'].astype(start_cluster_dtype)"
   ]
  },
  {
   "cell_type": "code",
   "execution_count": 6,
   "id": "X6r1M_TQ8vOe",
   "metadata": {
    "id": "X6r1M_TQ8vOe"
   },
   "outputs": [],
   "source": [
    "# Создание объединенного датасета для дальнейшей обработки\n",
    "train_df['is_train'] = 1\n",
    "test_df['is_train'] = 0\n",
    "full_df = pd.concat([train_df, test_df], ignore_index=True)\n",
    "full_df = full_df.sort_values(['id', 'month_num']).reset_index(drop=True)"
   ]
  },
  {
   "cell_type": "markdown",
   "id": "icddVqfJCj1X",
   "metadata": {
    "id": "icddVqfJCj1X"
   },
   "source": [
    "### Инжинеринг переменных для обучения модели"
   ]
  },
  {
   "cell_type": "code",
   "execution_count": 7,
   "id": "mBp1kwS8CUww",
   "metadata": {
    "id": "mBp1kwS8CUww"
   },
   "outputs": [],
   "source": [
    "\n",
    "\n",
    "# Выделение остальных категориальных переменных\n",
    "\n",
    "cat_cols = [\"channel_code\", \"city\", \"city_type\", \"index_city_code\", \"ogrn_month\",\n",
    "            \"ogrn_year\", \"okved\", \"segment\", \"start_cluster\"]\n",
    "\n",
    "for col in cat_cols:\n",
    "      all_uniques = full_df[col].dropna().unique()\n",
    "      cat_dtype = pd.CategoricalDtype(categories=all_uniques)\n",
    "      full_df[col] = full_df[col].astype(cat_dtype)"
   ]
  },
  {
   "cell_type": "code",
   "execution_count": 8,
   "id": "0gd1dR97MkNs",
   "metadata": {
    "id": "0gd1dR97MkNs"
   },
   "outputs": [],
   "source": [
    "# Добавление лаговых переменных\n",
    "\n",
    "cols_for_lags = ['balance_amt_avg', 'balance_amt_max', 'balance_amt_min', 'balance_amt_day_avg',\n",
    "                     'ft_registration_date', 'max_founderpres', 'min_founderpres', 'ogrn_exist_months']\n",
    "\n",
    "for col in cols_for_lags:\n",
    "      full_df[f'{col}_lag1'] = full_df.groupby('id')[col].shift(1).fillna(0)\n",
    "      full_df[f'{col}_diff1'] = (full_df[col] - full_df[f'{col}_lag1']).fillna(0)"
   ]
  },
  {
   "cell_type": "code",
   "execution_count": 9,
   "id": "5KOwNaDpMngX",
   "metadata": {
    "id": "5KOwNaDpMngX"
   },
   "outputs": [],
   "source": [
    "# Добавление категориальной переменной кластера в прошлом месяце\n",
    "placeholder = \"MISSING_LAG\"\n",
    "prev_month_clusters = list(all_clusters) + [placeholder]\n",
    "prev_start_cluster_dtype = pd.CategoricalDtype(categories=prev_month_clusters)\n",
    "\n",
    "full_df['prev_month_start_cluster'] = (full_df.groupby('id')['start_cluster'].shift(1)).astype(prev_start_cluster_dtype).fillna(placeholder)\n",
    "cat_cols.append('prev_month_start_cluster')"
   ]
  },
  {
   "cell_type": "code",
   "execution_count": 10,
   "id": "ronm3Gb5Mp5N",
   "metadata": {
    "id": "ronm3Gb5Mp5N"
   },
   "outputs": [],
   "source": [
    "# Обработка окончена, разделение датасетов по флагу is_train\n",
    "train_processed_df = full_df[full_df['is_train'] == 1].copy()\n",
    "test_processed_df = full_df[full_df['is_train'] == 0].copy()\n",
    "\n",
    "# Перевод end_cluster в численных формат\n",
    "\n",
    "# Датасеты соотношения названия и кода кластера\n",
    "encoding_df = pd.DataFrame({'cluster' :sorted(train_processed_df['end_cluster'].unique()),\n",
    "             'end_cluster_encoded': [0, 1, 2, 3, 4, 5, 6, 7, 8, 9, 10, 11, 12, 13, 14, 15, 16]})\n",
    "encoding_df_w_weights = encoding_df.merge(cluster_weights_df[['cluster', 'unnorm_weight']], on='cluster')\n",
    "\n",
    "# Перенос кода в тренировочный датасет\n",
    "train_processed_df = pd.merge(train_processed_df, encoding_df.rename({'cluster': 'end_cluster'}, axis=1), on='end_cluster')\n",
    "\n",
    "num_classes = len(encoding_df)"
   ]
  },
  {
   "cell_type": "code",
   "execution_count": 11,
   "id": "HSWzjuocMr0p",
   "metadata": {
    "id": "HSWzjuocMr0p"
   },
   "outputs": [],
   "source": [
    "# Выделение переменных для тренировки\n",
    "features_to_drop = ['id', 'date', 'month_num', 'is_train', 'end_cluster', 'end_cluster_encoded'] # Переменные, не учитываемы в обучении модели\n",
    "\n",
    "features = [col for col in train_processed_df.columns if col not in features_to_drop]\n",
    "final_cat_features = [col for col in cat_cols]\n"
   ]
  },
  {
   "cell_type": "markdown",
   "id": "GZ0uK__fMx8D",
   "metadata": {
    "id": "GZ0uK__fMx8D"
   },
   "source": [
    "### Обучение модели"
   ]
  },
  {
   "cell_type": "code",
   "execution_count": 12,
   "id": "jHBbbCqznv0v",
   "metadata": {
    "id": "jHBbbCqznv0v"
   },
   "outputs": [],
   "source": [
    "# Подготовка данных для обучения\n",
    "X = train_processed_df[features]\n",
    "y = train_processed_df['end_cluster_encoded']\n",
    "X_test = test_processed_df[test_processed_df['month_num'] == 6][features].copy()\n",
    "\n",
    "oof_preds = np.zeros((X.shape[0], num_classes))\n",
    "test_preds = np.zeros((X_test.shape[0], num_classes))"
   ]
  },
  {
   "cell_type": "code",
   "execution_count": null,
   "id": "dce60c2b-fcd5-43fd-a21b-28dbcb8705ea",
   "metadata": {
    "id": "dce60c2b-fcd5-43fd-a21b-28dbcb8705ea",
    "outputId": "b2731c65-107b-4eda-986d-cd01e706953e"
   },
   "outputs": [
    {
     "name": "stdout",
     "output_type": "stream",
     "text": [
      "\n",
      "Fold 1\n",
      "Training until validation scores don't improve for 100 rounds\n",
      "Did not meet early stopping. Best iteration is:\n",
      "[1000]\tvalid_0's multi_logloss: 0.646659\n",
      "\n",
      "Fold 2\n",
      "Training until validation scores don't improve for 100 rounds\n",
      "Did not meet early stopping. Best iteration is:\n",
      "[1000]\tvalid_0's multi_logloss: 0.647406\n",
      "\n",
      "Fold 3\n",
      "Training until validation scores don't improve for 100 rounds\n",
      "Did not meet early stopping. Best iteration is:\n",
      "[1000]\tvalid_0's multi_logloss: 0.654207\n",
      "\n",
      "Fold 4\n",
      "Training until validation scores don't improve for 100 rounds\n",
      "Did not meet early stopping. Best iteration is:\n",
      "[1000]\tvalid_0's multi_logloss: 0.646248\n",
      "\n",
      "Fold 5\n",
      "Training until validation scores don't improve for 100 rounds\n"
     ]
    }
   ],
   "source": [
    "#Обучение модели с использованием ассемблеи\n",
    "skf = StratifiedKFold(n_splits=5, shuffle=True, random_state=42)\n",
    "\n",
    "oof_preds = np.zeros((X.shape[0], num_classes))\n",
    "test_preds = np.zeros((X_test.shape[0], num_classes))\n",
    "\n",
    "for fold, (train_idx, val_idx) in enumerate(skf.split(X, y)):\n",
    "    print(f\"\\nFold {fold + 1}\")\n",
    "    X_train, X_val = X.iloc[train_idx], X.iloc[val_idx]\n",
    "    y_train, y_val = y.iloc[train_idx], y.iloc[val_idx]\n",
    "\n",
    "    model = lgb.LGBMClassifier(\n",
    "        objective='multiclass', metric='multi_logloss', num_class=num_classes,\n",
    "        n_estimators=1000, learning_rate=0.05, feature_fraction=0.8,\n",
    "        bagging_fraction=0.8, bagging_freq=1, lambda_l1=0.1, lambda_l2=0.1,\n",
    "        num_leaves=31, verbose=-1, n_jobs=-1, seed=42 + fold, boosting_type='gbdt'\n",
    "    )\n",
    "\n",
    "    model.fit(X_train, y_train,\n",
    "              eval_set=[(X_val, y_val)],\n",
    "              callbacks=[lgb.early_stopping(100, verbose=True)],\n",
    "              categorical_feature=final_cat_features)\n",
    "\n",
    "    oof_preds[val_idx] = model.predict_proba(X_val)\n",
    "    test_preds += model.predict_proba(X_test) / skf.n_splits"
   ]
  },
  {
   "cell_type": "markdown",
   "id": "3aBjPblVpUb2",
   "metadata": {
    "id": "3aBjPblVpUb2"
   },
   "source": [
    "### Форматирование итогового файла"
   ]
  },
  {
   "cell_type": "code",
   "execution_count": null,
   "id": "b5ff1644-fbdd-498e-928f-f9f1b358c5d6",
   "metadata": {
    "id": "b5ff1644-fbdd-498e-928f-f9f1b358c5d6"
   },
   "outputs": [],
   "source": [
    "submission_df = pd.DataFrame(test_preds, columns=sorted(all_clusters))\n",
    "submission_df['id'] = test_processed_df[test_processed_df['month_num'] == 6]['id'].values\n",
    "\n",
    "submission_cols_order = ['id'] + list(sample_submission_df.columns[1:])\n",
    "submission_df = submission_df[submission_cols_order]\n",
    "\n",
    "submission_df.to_csv(\"submission\", index=False)\n",
    "print(\"Submission file succesfully created!\")"
   ]
  },
  {
   "cell_type": "code",
   "execution_count": null,
   "id": "3da43234-5003-4e42-9817-abdd0714e4bf",
   "metadata": {
    "id": "3da43234-5003-4e42-9817-abdd0714e4bf",
    "outputId": "377d2760-9842-428e-c47c-d10d4cb2ce5a"
   },
   "outputs": [],
   "source": [
    "submission_df"
   ]
  },
  {
   "cell_type": "code",
   "execution_count": null,
   "id": "12f70282-41f9-4c58-9477-863f673a1e89",
   "metadata": {
    "id": "12f70282-41f9-4c58-9477-863f673a1e89"
   },
   "outputs": [],
   "source": []
  }
 ],
 "metadata": {
  "colab": {
   "provenance": []
  },
  "kernelspec": {
   "display_name": "Python 3 (ipykernel)",
   "language": "python",
   "name": "python3"
  },
  "language_info": {
   "codemirror_mode": {
    "name": "ipython",
    "version": 3
   },
   "file_extension": ".py",
   "mimetype": "text/x-python",
   "name": "python",
   "nbconvert_exporter": "python",
   "pygments_lexer": "ipython3",
   "version": "3.12.3"
  }
 },
 "nbformat": 4,
 "nbformat_minor": 5
}
